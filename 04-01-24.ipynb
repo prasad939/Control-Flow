{
 "cells": [
  {
   "cell_type": "code",
   "execution_count": 1,
   "id": "00280f20-95d8-444e-8e20-786d7f4e90a5",
   "metadata": {},
   "outputs": [],
   "source": [
    "#Basic If-Else Statements:"
   ]
  },
  {
   "cell_type": "code",
   "execution_count": null,
   "id": "cd3d96d1-b904-438f-9a50-7ec29defad5e",
   "metadata": {},
   "outputs": [],
   "source": [
    "#1. Check if a given number is positive or negative:\n",
    "num = float(input(\"Enter a number: \"))\n",
    "if num > 0:\n",
    "    print(\"Positive\")\n",
    "elif num < 0:\n",
    "    print(\"Negative\")\n",
    "else:\n",
    "    print(\"Zero\")"
   ]
  },
  {
   "cell_type": "code",
   "execution_count": null,
   "id": "adf7dfcc-ab40-443a-96eb-3dd4eaa64131",
   "metadata": {},
   "outputs": [],
   "source": [
    "#2. Determine if a person is eligible to vote based on their age:\n",
    "age = int(input(\"Enter your age: \"))\n",
    "if age >= 18:\n",
    "    print(\"Eligible to vote\")\n",
    "else:\n",
    "    print(\"Not eligible to vote\")"
   ]
  },
  {
   "cell_type": "code",
   "execution_count": null,
   "id": "b3f99f41-cedc-4595-8920-53d544bc6d8d",
   "metadata": {},
   "outputs": [],
   "source": [
    "# 3. Find the maximum of two numbers using if-else stateme\n",
    "a, b = 10, 20\n",
    "if a > b:\n",
    "    print(\"Maximum:\", a)\n",
    "else:\n",
    "    print(\"Maximum:\", b)"
   ]
  },
  {
   "cell_type": "code",
   "execution_count": null,
   "id": "6b0e220b-dc11-440e-901e-8a0b8b4ad0c3",
   "metadata": {},
   "outputs": [],
   "source": [
    "#4. Classify a given year as a leap year or not:\n",
    "year = int(input(\"Enter a year: \"))\n",
    "if (year % 4 == 0 and year % 100 != 0) or (year % 400 == 0):\n",
    "    print(\"Leap year\")\n",
    "else:\n",
    "    print(\"Not a leap year\")"
   ]
  },
  {
   "cell_type": "code",
   "execution_count": null,
   "id": "c33ca066-88d6-4950-b727-4e2e785ad792",
   "metadata": {},
   "outputs": [],
   "source": [
    "#5. Check whether a character is a vowel or a consonant:\n",
    "char = input(\"Enter a character: \").lower()\n",
    "if char in 'aeiou':\n",
    "    print(\"Vowel\")\n",
    "else:\n",
    "    print(\"Consonant\")"
   ]
  },
  {
   "cell_type": "code",
   "execution_count": null,
   "id": "5afa1a10-c06e-40ed-bb61-ff2097362726",
   "metadata": {},
   "outputs": [],
   "source": [
    "#6. Determine whether a given number is even or odd:\n",
    "num = int(input(\"Enter a number: \"))\n",
    "if num % 2 == 0:\n",
    "    print(\"Even\")\n",
    "else:\n",
    "    print(\"Odd\")"
   ]
  },
  {
   "cell_type": "code",
   "execution_count": null,
   "id": "f2a27a35-08d6-4e26-a44f-ae38c710e79a",
   "metadata": {},
   "outputs": [],
   "source": [
    "#7. Calculate the absolute value of a number without using the abs() function:\n",
    "num = float(input(\"Enter a number: \"))\n",
    "if num < 0:\n",
    "    num = -num\n",
    "print(\"Absolute value:\", num)"
   ]
  },
  {
   "cell_type": "code",
   "execution_count": null,
   "id": "fde76f00-3941-45ff-af44-2d9399c44a6b",
   "metadata": {},
   "outputs": [],
   "source": [
    "#8. Determine the largest of three given numbers using if-else statements:\n",
    "a, b, c = 10, 20, 15\n",
    "if a >= b and a >= c:\n",
    "    print(\"Largest:\", a)\n",
    "elif b >= a and b >= c:\n",
    "    print(\"Largest:\", b)\n",
    "else:\n",
    "    print(\"Largest:\", c)"
   ]
  },
  {
   "cell_type": "code",
   "execution_count": null,
   "id": "548ffa61-86e5-45d3-aa2c-b4fb959646c3",
   "metadata": {},
   "outputs": [],
   "source": [
    "#9. Check if a given string is a palindrome:\n",
    "text = input(\"Enter a string: \").lower()\n",
    "if text == text[::-1]:\n",
    "    print(\"Palindrome\")\n",
    "else:\n",
    "    print(\"Not a palindrome\")"
   ]
  },
  {
   "cell_type": "code",
   "execution_count": null,
   "id": "d1e90319-b5c9-4b82-9dbf-fccecbf2257f",
   "metadata": {},
   "outputs": [],
   "source": [
    "#10. Calculate the grade based on a student's score:\n",
    "score = float(input(\"Enter your score: \"))\n",
    "if score >= 90:\n",
    "    print(\"Grade: A\")\n",
    "elif score >= 80:\n",
    "    print(\"Grade: B\")\n",
    "elif score >= 70:\n",
    "    print(\"Grade: C\")\n",
    "elif score >= 60:\n",
    "    print(\"Grade: D\")\n",
    "else:\n",
    "    print(\"Grade: F\")"
   ]
  },
  {
   "cell_type": "code",
   "execution_count": null,
   "id": "0c276b44-5468-40cb-9a67-6ae7891f9d2c",
   "metadata": {},
   "outputs": [],
   "source": [
    "##Nested If-Else Statements:"
   ]
  },
  {
   "cell_type": "code",
   "execution_count": null,
   "id": "77d7411e-0e85-4378-acb9-7f58f97f02a2",
   "metadata": {},
   "outputs": [],
   "source": [
    "#11. Find the largest among three numbers using nested if-else statements:\n",
    "a, b, c = 10, 20, 15\n",
    "if a > b:\n",
    "    if a > c:\n",
    "        print(\"Largest:\", a)\n",
    "    else:\n",
    "        print(\"Largest:\", c)\n",
    "else:\n",
    "    if b > c:\n",
    "        print(\"Largest:\", b)\n",
    "    else:\n",
    "        print(\"Largest:\", c)"
   ]
  },
  {
   "cell_type": "code",
   "execution_count": null,
   "id": "59a92f37-4e9a-4e0a-b7bf-0113fbfdeafe",
   "metadata": {},
   "outputs": [],
   "source": [
    "#12. Determine if a triangle is equilateral, isosceles, or scalene:\n",
    "a, b, c = 5, 5, 5\n",
    "if a == b == c:\n",
    "    print(\"Equilateral triangle\")\n",
    "elif a == b or b == c or a == c:\n",
    "    print(\"Isosceles triangle\")\n",
    "else:\n",
    "    print(\"Scalene triangle\")"
   ]
  },
  {
   "cell_type": "code",
   "execution_count": null,
   "id": "5999f661-3540-4ea7-8deb-b285e4627fb7",
   "metadata": {},
   "outputs": [],
   "source": [
    "#13. Check if a year is a leap year and also if it is a century year:\n",
    "year = 2000\n",
    "if (year % 4 == 0 and year % 100 != 0) or (year % 400 == 0):\n",
    "    print(\"Leap year\")\n",
    "    if year % 100 == 0:\n",
    "        print(\"Century year\")\n",
    "else:\n",
    "    print(\"Not a leap year\")"
   ]
  },
  {
   "cell_type": "code",
   "execution_count": null,
   "id": "cd39a8cf-c303-42d3-8e5b-38c620c230fe",
   "metadata": {},
   "outputs": [],
   "source": [
    "#14. num = float(input(\"Enter a number: \"))\n",
    "if num > 0:\n",
    "    print(\"Positive\")\n",
    "elif num < 0:\n",
    "    print(\"Negative\")\n",
    "else:\n",
    "    print(\"Zero\")"
   ]
  },
  {
   "cell_type": "code",
   "execution_count": null,
   "id": "3ad55891-fe4e-49db-908c-fc7ada07f575",
   "metadata": {},
   "outputs": [],
   "source": [
    "#15. Check if a person is a teenager (between 13 and 19 years old):\n",
    "age = int(input(\"Enter your age: \"))\n",
    "if 13 <= age <= 19:\n",
    "    print(\"Teenager\")\n",
    "else:\n",
    "    print(\"Not a teenager\")"
   ]
  },
  {
   "cell_type": "code",
   "execution_count": null,
   "id": "97d24f69-2a33-485e-9293-cac5cb58de99",
   "metadata": {},
   "outputs": [],
   "source": [
    "#16. Determine the type of angle based on its measure (acute, obtuse, or right):\n",
    "angle = float(input(\"Enter the angle: \"))\n",
    "if angle < 90:\n",
    "    print(\"Acute angle\")\n",
    "elif angle == 90:\n",
    "    print(\"Right angle\")\n",
    "else:\n",
    "    print(\"Obtuse angle\")"
   ]
  },
  {
   "cell_type": "code",
   "execution_count": null,
   "id": "b34295bd-1082-4516-8492-8b85bf3f345c",
   "metadata": {},
   "outputs": [],
   "source": [
    "#17. Calculate the roots of a quadratic equation:\n",
    "import math\n",
    "\n",
    "a, b, c = 1, -3, 2\n",
    "discriminant = b**2 - 4*a*c\n",
    "if discriminant > 0:\n",
    "    root1 = (-b + math.sqrt(discriminant)) / (2*a)\n",
    "    root2 = (-b - math.sqrt(discriminant)) / (2*a)\n",
    "    print(\"Roots:\", root1, root2)\n",
    "elif discriminant == 0:\n",
    "    root = -b / (2*a)\n",
    "    print(\"Root:\", root)\n",
    "else:\n",
    "    print(\"No real roots\")"
   ]
  },
  {
   "cell_type": "code",
   "execution_count": null,
   "id": "31e61c88-7399-41f7-85a2-c0b3ba0bcacf",
   "metadata": {},
   "outputs": [],
   "source": [
    "#18. Determine the day of the week based on a user-provided number\n",
    "day_num = int(input(\"Enter a number (1-7): \"))\n",
    "if day_num == 1:\n",
    "    print(\"Monday\")\n",
    "elif day_num == 2:\n",
    "    print(\"Tuesday\")\n",
    "elif day_num == 3:\n",
    "    print(\"Wednesday\")\n",
    "elif day_num == 4:\n",
    "    print(\"Thursday\")\n",
    "elif day_num == 5:\n",
    "    print(\"Friday\")\n",
    "elif day_num == 6:\n",
    "    print(\"Saturday\")\n",
    "elif day_num == 7:\n",
    "    print(\"Sunday\")\n",
    "else:\n",
    "    print(\"Invalid input\")"
   ]
  },
  {
   "cell_type": "code",
   "execution_count": null,
   "id": "5732f52d-9535-431a-90e3-a4582e9190a9",
   "metadata": {},
   "outputs": [],
   "source": [
    "#19. Determine if a year is a leap year and also if it is evenly divisible by 400:\n",
    "year = 2000\n",
    "if year % 4 == 0:\n",
    "    if year % 100 == 0:\n",
    "        if year % 400 == 0:\n",
    "            print(\"Leap year and divisible by 400\")\n",
    "        else:\n",
    "            print(\"Not a leap year\")\n",
    "    else:\n",
    "        print(\"Leap year\")\n",
    "else:\n",
    "    print(\"Not a leap year\")"
   ]
  },
  {
   "cell_type": "code",
   "execution_count": null,
   "id": "65f72bc6-8891-40fa-8318-556e8d4aefef",
   "metadata": {},
   "outputs": [],
   "source": [
    "#20. Check if a given number is prime or not using nested if-else statements:\n",
    "num = int(input(\"Enter a number: \"))\n",
    "if num > 1:\n",
    "    for i in range(2, int(num**0.5) + 1):\n",
    "        if num % i == 0:\n",
    "            print(\"Not prime\")\n",
    "            break\n",
    "    else:\n",
    "        print(\"Prime\")\n",
    "else:\n",
    "    print(\"Not prime\")"
   ]
  },
  {
   "cell_type": "code",
   "execution_count": null,
   "id": "44dec7ef-f525-4783-8e9d-a10056ca626a",
   "metadata": {},
   "outputs": [],
   "source": [
    " ### Elif Statements:"
   ]
  },
  {
   "cell_type": "code",
   "execution_count": null,
   "id": "b7155978-f58b-4895-813b-a9278ce090b8",
   "metadata": {},
   "outputs": [],
   "source": [
    "#21. Assign grades based on different ranges of scores using elif statements:\n",
    "score = float(input(\"Enter your score: \"))\n",
    "if score >= 90:\n",
    "    print(\"Grade: A\")\n",
    "elif score >= 80:\n",
    "    print(\"Grade: B\")\n",
    "elif score >= 70:\n",
    "    print(\"Grade: C\")\n",
    "elif score >= 60:\n",
    "    print(\"Grade: D\")\n",
    "else:\n",
    "    print(\"Grade: F\")"
   ]
  },
  {
   "cell_type": "code",
   "execution_count": null,
   "id": "5c089174-501e-439d-9c02-260ca8bb95bc",
   "metadata": {},
   "outputs": [],
   "source": [
    "#22. Determine the type of a triangle based on its angles:\n",
    "a, b, c = 60, 60, 60\n",
    "if a + b + c == 180:\n",
    "    if a == b == c:\n",
    "        print(\"Equilateral triangle\")\n",
    "    elif a == b or b == c or a == c:\n",
    "        print(\"Isosceles triangle\")\n",
    "    else:\n",
    "        print(\"Scalene triangle\")\n",
    "else:\n",
    "    print(\"Not a valid triangle\")"
   ]
  },
  {
   "cell_type": "code",
   "execution_count": null,
   "id": "65d01778-f699-454d-a3ef-56e283a40a54",
   "metadata": {},
   "outputs": [],
   "source": [
    "# 23. Categorize a person's BMI into underweight, normal, overweight, or obese using elif statements:\n",
    "bmi = float(input(\"Enter your BMI: \"))\n",
    "if bmi < 18.5:\n",
    "    print(\"Underweight\")\n",
    "elif 18.5 <= bmi < 25:\n",
    "    print(\"Normal weight\")\n",
    "elif 25 <= bmi < 30:\n",
    "    print(\"Overweight\")\n",
    "else:\n",
    "    print(\"Obese\")"
   ]
  },
  {
   "cell_type": "code",
   "execution_count": null,
   "id": "59e02204-243b-49cb-984b-71646e848504",
   "metadata": {},
   "outputs": [],
   "source": [
    "#24. Determine whether a given number is positive, negative, or zero using elif statements\n",
    "num = float(input(\"Enter a number: \"))\n",
    "if num > 0:\n",
    "    print(\"Positive\")\n",
    "elif num < 0:\n",
    "    print(\"Negative\")\n",
    "else:\n",
    "    print(\"Zero\")"
   ]
  },
  {
   "cell_type": "code",
   "execution_count": null,
   "id": "06f8af69-1c30-4c81-a1d7-ff42881b096e",
   "metadata": {},
   "outputs": [],
   "source": [
    "#25. Determine the type of a character (uppercase, lowercase, or special) using elif statements:\n",
    "char = input(\"Enter a character: \")\n",
    "if char.isupper():\n",
    "    print(\"Uppercase\")\n",
    "elif char.islower():\n",
    "    print(\"Lowercase\")\n",
    "else:\n",
    "    print(\"Special character\")"
   ]
  },
  {
   "cell_type": "code",
   "execution_count": null,
   "id": "7d4ac31f-4c6a-49e7-822e-001750e4f460",
   "metadata": {},
   "outputs": [],
   "source": [
    "#26. Calculate the discounted price based on different purchase amounts using elif statements:\n",
    "amount = float(input(\"Enter purchase amount: \"))\n",
    "if amount > 1000:\n",
    "    discount = 0.2\n",
    "elif amount > 500:\n",
    "    discount = 0.1\n",
    "elif amount > 100:\n",
    "    discount = 0.05\n",
    "else:\n",
    "    discount = 0\n",
    "final_price = amount - (amount * discount)\n",
    "print(\"Final price:\", final_price)"
   ]
  },
  {
   "cell_type": "code",
   "execution_count": null,
   "id": "edb51105-0eea-40d3-a7e2-c82d198a8289",
   "metadata": {},
   "outputs": [],
   "source": [
    "#27. Calculate the electricity bill based on different consumption slabs using elif statements:\n",
    "units = int(input(\"Enter units consumed: \"))\n",
    "if units <= 50:\n",
    "    bill = units * 0.5\n",
    "elif units <= 150:\n",
    "    bill = 25 + (units - 50) * 0.75\n",
    "elif units <= 250:\n",
    "    bill = 100 + (units - 150) * 1.2\n",
    "else:\n",
    "    bill = 220 + (units - 250) * 1.5\n",
    "print(\"Electricity bill:\", bill)\n"
   ]
  },
  {
   "cell_type": "code",
   "execution_count": null,
   "id": "af09f362-e703-4c63-9bae-a5e086866684",
   "metadata": {},
   "outputs": [],
   "source": [
    "#28. Determine the type of quadrilateral based on its angles and sides using elif statements:\n",
    "sides = [4, 4, 4, 4]\n",
    "angles = [90, 90, 90, 90]\n",
    "if len(set(sides)) == 1 and len(set(angles)) == 1:\n",
    "    print(\"Square\")\n",
    "elif len(set(sides)) == 1:\n",
    "    print(\"Rhombus\")\n",
    "elif len(set(angles)) == 1:\n",
    "    print(\"Rectangle\")\n",
    "else:\n",
    "    print(\"Irregular quadrilateral\")"
   ]
  },
  {
   "cell_type": "code",
   "execution_count": null,
   "id": "516a16b2-2e74-4c50-b1f6-d39c799cae85",
   "metadata": {},
   "outputs": [],
   "source": [
    "#29. Determine the season based on a user-provided month using elif statements:\n",
    "month = input(\"Enter a month: \").lower()\n",
    "if month in [\"december\", \"january\", \"february\"]:\n",
    "    print(\"Winter\")\n",
    "elif month in [\"march\", \"april\", \"may\"]:\n",
    "    print(\"Spring\")\n",
    "elif month in [\"june\", \"july\", \"august\"]:\n",
    "    print(\"Summer\")\n",
    "elif month in [\"september\", \"october\", \"november\"]:\n",
    "    print(\"Autumn\")\n",
    "else:\n",
    "    print(\"Invalid month\")"
   ]
  },
  {
   "cell_type": "code",
   "execution_count": null,
   "id": "292504a2-83b7-4359-a157-09409bd46fc9",
   "metadata": {},
   "outputs": [],
   "source": [
    "#30. Determine the type of a year (leap or common) and month (30 or 31 days) using elif statements:\n",
    "year = int(input(\"Enter a year: \"))\n",
    "month = input(\"Enter a month: \").lower()\n",
    "\n",
    "# Check leap year\n",
    "if (year % 4 == 0 and year % 100 != 0) or (year % 400 == 0):\n",
    "    print(\"Leap year\")\n",
    "else:\n",
    "    print(\"Common year\")\n",
    "\n",
    "# Check month days\n",
    "if month in [\"april\", \"june\", \"september\", \"november\"]:\n",
    "    print(\"30 days\")\n",
    "elif month == \"february\":\n",
    "    print(\"29 days\" if (year % 4 == 0 and year % 100 != 0) or (year % 400 == 0) else \"28 days\")\n",
    "else:\n",
    "    print(\"31 days\")"
   ]
  },
  {
   "cell_type": "code",
   "execution_count": null,
   "id": "a56c1d86-019d-41b0-9226-e5e2486d7437",
   "metadata": {},
   "outputs": [],
   "source": []
  },
  {
   "cell_type": "code",
   "execution_count": null,
   "id": "5f2b2af8-cd42-4b34-b5ac-d44fff1e4581",
   "metadata": {},
   "outputs": [],
   "source": [
    "#### BASIC"
   ]
  },
  {
   "cell_type": "code",
   "execution_count": null,
   "id": "959a33ea-3041-4267-b743-ad5ba34978ad",
   "metadata": {},
   "outputs": [],
   "source": [
    "#1. Check if a given number is positive, negative, or zero:\n",
    "num = float(input(\"Enter a number: \"))\n",
    "if num > 0:\n",
    "    print(\"Positive\")\n",
    "elif num < 0:\n",
    "    print(\"Negative\")\n",
    "else:\n",
    "    print(\"Zero\")"
   ]
  },
  {
   "cell_type": "code",
   "execution_count": null,
   "id": "02924fa9-6dd6-4ea7-a9c2-aea41e668eb7",
   "metadata": {},
   "outputs": [],
   "source": [
    "#2. Determine if a person is eligible to vote based on their age:\n",
    "age = int(input(\"Enter your age: \"))\n",
    "if age >= 18:\n",
    "    print(\"Eligible to vote\")\n",
    "else:\n",
    "    print(\"Not eligible to vote\")"
   ]
  },
  {
   "cell_type": "code",
   "execution_count": null,
   "id": "c268aa5c-c236-46df-9d68-1e63e345c1ef",
   "metadata": {},
   "outputs": [],
   "source": [
    "#3. Find the maximum of two given numbers using conditional statements:\n",
    "a, b = 10, 20\n",
    "print(\"Maximum:\", a if a > b else b)"
   ]
  },
  {
   "cell_type": "code",
   "execution_count": null,
   "id": "6ac0d34a-ba9a-4c99-b796-a89900a708dc",
   "metadata": {},
   "outputs": [],
   "source": [
    "#4. Calculate the grade of a student based on their exam score:\n",
    "score = float(input(\"Enter your score: \"))\n",
    "if score >= 90:\n",
    "    print(\"Grade: A\")\n",
    "elif score >= 80:\n",
    "    print(\"Grade: B\")\n",
    "elif score >= 70:\n",
    "    print(\"Grade: C\")\n",
    "elif score >= 60:\n",
    "    print(\"Grade: D\")\n",
    "else:\n",
    "    print(\"Grade: F\")"
   ]
  },
  {
   "cell_type": "code",
   "execution_count": null,
   "id": "c9a5d509-bbec-41a5-835a-561df3bd3efa",
   "metadata": {},
   "outputs": [],
   "source": [
    "#5. Check if a year is a leap year or not:\n",
    "year = int(input(\"Enter a year: \"))\n",
    "if (year % 4 == 0 and year % 100 != 0) or (year % 400 == 0):\n",
    "    print(\"Leap year\")\n",
    "else:\n",
    "    print(\"Not a leap year\")"
   ]
  },
  {
   "cell_type": "code",
   "execution_count": null,
   "id": "60cc4a87-19b8-486b-baf0-2d613c254114",
   "metadata": {},
   "outputs": [],
   "source": [
    "#6. Classify a triangle based on its sides' lengths:\n",
    "a, b, c = 5, 5, 5\n",
    "if a == b == c:\n",
    "    print(\"Equilateral triangle\")\n",
    "elif a == b or b == c or a == c:\n",
    "    print(\"Isosceles triangle\")\n",
    "else:\n",
    "    print(\"Scalene triangle\")"
   ]
  },
  {
   "cell_type": "code",
   "execution_count": null,
   "id": "236a20f2-0b1d-4781-9a91-cb041ad3894a",
   "metadata": {},
   "outputs": [],
   "source": [
    "#7. Determine the largest of three given numbers:\n",
    "a, b, c = 10, 20, 15\n",
    "print(\"Largest:\", max(a, b, c))"
   ]
  },
  {
   "cell_type": "code",
   "execution_count": null,
   "id": "600c7211-c635-446f-9318-07ad203616a6",
   "metadata": {},
   "outputs": [],
   "source": [
    "#8. Check whether a character is a vowel or a consonant:\n",
    "char = input(\"Enter a character: \").lower()\n",
    "if char in 'aeiou':\n",
    "    print(\"Vowel\")\n",
    "else:\n",
    "    print(\"Consonant\")"
   ]
  },
  {
   "cell_type": "code",
   "execution_count": null,
   "id": "89d95793-6503-4b17-bc4c-2180f68e5649",
   "metadata": {},
   "outputs": [],
   "source": [
    "#9. Calculate the total cost of a shopping cart based on discounts:\n",
    "amount = float(input(\"Enter purchase amount: \"))\n",
    "if amount > 1000:\n",
    "    discount = 0.2\n",
    "elif amount > 500:\n",
    "    discount = 0.1\n",
    "else:\n",
    "    discount = 0\n",
    "final_price = amount - (amount * discount)\n",
    "print(\"Final price:\", final_price)"
   ]
  },
  {
   "cell_type": "code",
   "execution_count": null,
   "id": "8ee5d7fb-4748-4c19-a468-67775b7c182e",
   "metadata": {},
   "outputs": [],
   "source": [
    "#10. Check if a given number is even or odd:\n",
    "num = int(input(\"Enter a number: \"))\n",
    "print(\"Even\" if num % 2 == 0 else \"Odd\")"
   ]
  },
  {
   "cell_type": "code",
   "execution_count": null,
   "id": "faeb6d2e-0493-4d20-ad99-02c4803ad232",
   "metadata": {},
   "outputs": [],
   "source": [
    "##### Intermediate Level:"
   ]
  },
  {
   "cell_type": "code",
   "execution_count": null,
   "id": "35c55093-65fc-42d4-8d2f-1104e5656fbc",
   "metadata": {},
   "outputs": [],
   "source": [
    "#11. Calculate the roots of a quadratic equation:\n",
    "import math\n",
    "\n",
    "a, b, c = 1, -3, 2\n",
    "discriminant = b**2 - 4*a*c\n",
    "if discriminant > 0:\n",
    "    root1 = (-b + math.sqrt(discriminant)) / (2*a)\n",
    "    root2 = (-b - math.sqrt(discriminant)) / (2*a)\n",
    "    print(\"Roots:\", root1, root2)\n",
    "elif discriminant == 0:\n",
    "    root = -b / (2*a)\n",
    "    print(\"Root:\", root)\n",
    "else:\n",
    "    print(\"No real roots\")"
   ]
  },
  {
   "cell_type": "code",
   "execution_count": null,
   "id": "6d9a7dcb-cbf4-4ccf-91b0-6859685eff88",
   "metadata": {},
   "outputs": [],
   "source": [
    "#12. Determine the day of the week based on the day number (1-7):\n",
    "day_num = int(input(\"Enter a number (1-7): \"))\n",
    "days = [\"Monday\", \"Tuesday\", \"Wednesday\", \"Thursday\", \"Friday\", \"Saturday\", \"Sunday\"]\n",
    "print(days[day_num - 1] if 1 <= day_num <= 7 else \"Invalid input\")"
   ]
  },
  {
   "cell_type": "code",
   "execution_count": null,
   "id": "c75a8cd4-7a3d-40f9-b9fe-b80d37820991",
   "metadata": {},
   "outputs": [],
   "source": [
    "#13. Calculate the factorial of a given number using recursion:\n",
    "def factorial(n):\n",
    "    return 1 if n == 0 else n * factorial(n - 1)\n",
    "\n",
    "print(\"Factorial:\", factorial(5))\n"
   ]
  },
  {
   "cell_type": "code",
   "execution_count": null,
   "id": "bcfe3382-1994-48fd-a7d3-a03bb77d24d0",
   "metadata": {},
   "outputs": [],
   "source": [
    "#14. Find the largest among three numbers without using the max() functioN\n",
    "a, b, c = 10, 20, 15\n",
    "largest = a if a > b and a > c else (b if b > c else c)\n",
    "print(\"Largest:\", largest)"
   ]
  },
  {
   "cell_type": "code",
   "execution_count": null,
   "id": "cc425ef1-8d29-4ace-93f5-9245c653721c",
   "metadata": {},
   "outputs": [],
   "source": [
    "#15. Simulate a basic ATM transaction menu:\n",
    "balance = 1000\n",
    "print(\"1. Check Balance\\n2. Withdraw\\n3. Deposit\")\n",
    "choice = int(input(\"Enter choice: \"))\n",
    "if choice == 1:\n",
    "    print(\"Balance:\", balance)\n",
    "elif choice == 2:\n",
    "    amount = float(input(\"Enter amount to withdraw: \"))\n",
    "    if amount > balance:\n",
    "        print(\"Insufficient balance\")\n",
    "    else:\n",
    "        balance -= amount\n",
    "        print(\"New balance:\", balance)\n",
    "elif choice == 3:\n",
    "    balance += float(input(\"Enter amount to deposit: \"))\n",
    "    print(\"New balance:\", balance)\n",
    "else:\n",
    "    print(\"Invalid choice\")"
   ]
  },
  {
   "cell_type": "code",
   "execution_count": null,
   "id": "069b0dd5-bac8-4751-a5b1-57773cb950cd",
   "metadata": {},
   "outputs": [],
   "source": [
    "#16. Check if a given string is a palindrome:\n",
    "text = input(\"Enter a string: \").lower()\n",
    "print(\"Palindrome\" if text == text[::-1] else \"Not a palindrome\")"
   ]
  },
  {
   "cell_type": "code",
   "execution_count": null,
   "id": "8c9cc64b-794b-432d-b4bc-4bb86c901b86",
   "metadata": {},
   "outputs": [],
   "source": [
    "#17. Calculate the average of a list of numbers, excluding the smallest and largest values:\n",
    "numbers = [1, 2, 3, 4, 5]\n",
    "filtered = sorted(numbers)[1:-1]\n",
    "print(\"Average:\", sum(filtered) / len(filtered))"
   ]
  },
  {
   "cell_type": "code",
   "execution_count": null,
   "id": "cba287a6-f47d-4739-a76c-7150118db042",
   "metadata": {},
   "outputs": [],
   "source": [
    "#18. Convert a given temperature from Celsius to Fahrenheit:\n",
    "celsius = float(input(\"Enter temperature in Celsius: \"))\n",
    "print(\"Fahrenheit:\", (celsius * 9/5) + 32)"
   ]
  },
  {
   "cell_type": "code",
   "execution_count": null,
   "id": "b7a8fe33-642c-4a70-b07d-73dfdc96b866",
   "metadata": {},
   "outputs": [],
   "source": [
    "#19. Simulate a basic calculator for addition, subtraction, multiplication, and division:\n",
    "a, b = 10, 5\n",
    "operation = input(\"Enter operation (+, -, *, /): \")\n",
    "if operation == '+':\n",
    "    print(\"Result:\", a + b)\n",
    "elif operation == '-':\n",
    "    print(\"Result:\", a - b)\n",
    "elif operation == '*':\n",
    "    print(\"Result:\", a * b)\n",
    "elif operation == '/':\n",
    "    print(\"Result:\", a / b)\n",
    "else:\n",
    "    print(\"Invalid operation\")"
   ]
  },
  {
   "cell_type": "code",
   "execution_count": null,
   "id": "e598cda7-fd93-400f-b85a-da907b07e7e6",
   "metadata": {},
   "outputs": [],
   "source": [
    "#20. Determine the roots of a cubic equation using the Cardano formula:\n",
    "import math\n",
    "\n",
    "def cubic_roots(a, b, c, d):\n",
    "    delta0 = b**2 - 3*a*c\n",
    "    delta1 = 2*b**3 - 9*a*b*c + 27*a**2*d\n",
    "    C = ((delta1 + math.sqrt(delta1**2 - 4*delta0**3)) / 2) ** (1/3)\n",
    "    root = -(1/(3*a)) * (b + C + delta0/C)\n",
    "    return root\n",
    "\n",
    "a, b, c, d = 1, -6, 11, -6\n",
    "print(\"Root:\", cubic_roots(a, b, c, d))"
   ]
  },
  {
   "cell_type": "code",
   "execution_count": null,
   "id": "24ce83b3-1bb9-42d6-85a8-11a4a682ace1",
   "metadata": {},
   "outputs": [],
   "source": [
    "###### Advanced Level:"
   ]
  },
  {
   "cell_type": "code",
   "execution_count": null,
   "id": "93653dd3-c308-40ae-ba82-818296dce24e",
   "metadata": {},
   "outputs": [],
   "source": [
    "#21. Calculate income tax based on income and tax brackets:\n",
    "income = float(input(\"Enter your income: \"))\n",
    "if income <= 10000:\n",
    "    tax = 0\n",
    "elif income <= 30000:\n",
    "    tax = 0.1 * (income - 10000)\n",
    "elif income <= 70000:\n",
    "    tax = 2000 + 0.2 * (income - 30000)\n",
    "else:\n",
    "    tax = 10000 + 0.3 * (income - 70000)\n",
    "print(\"Income tax:\", tax)"
   ]
  },
  {
   "cell_type": "code",
   "execution_count": null,
   "id": "860722d1-27e5-47a3-8e2f-262ba9b0df7f",
   "metadata": {},
   "outputs": [],
   "source": [
    "#22. Simulate a rock-paper-scissors game against the computer:\n",
    "import random\n",
    "\n",
    "choices = [\"rock\", \"paper\", \"scissors\"]\n",
    "user = input(\"Enter your choice (rock, paper, scissors): \").lower()\n",
    "computer = random.choice(choices)\n",
    "print(\"Computer chose:\", computer)\n",
    "if user == computer:\n",
    "    print(\"It's a tie!\")\n",
    "elif (user == \"rock\" and computer == \"scissors\") or (user == \"paper\" and computer == \"rock\") or (user == \"scissors\" and computer == \"paper\"):\n",
    "    print(\"You win!\")\n",
    "else:\n",
    "    print(\"You lose!\")"
   ]
  },
  {
   "cell_type": "code",
   "execution_count": null,
   "id": "06c52f84-12d7-425a-982c-53b64e54934d",
   "metadata": {},
   "outputs": [],
   "source": [
    "#23. Generate a random password based on user preferences:\n",
    "import random\n",
    "import string\n",
    "\n",
    "length = int(input(\"Enter password length: \"))\n",
    "complexity = input(\"Enter complexity (low, medium, high): \").lower()\n",
    "chars = string.ascii_letters\n",
    "if complexity == \"medium\":\n",
    "    chars += string.digits\n",
    "elif complexity == \"high\":\n",
    "    chars += string.digits + string.punctuation\n",
    "password = ''.join(random.choice(chars) for _ in range(length))\n",
    "print(\"Generated password:\", password)"
   ]
  },
  {
   "cell_type": "code",
   "execution_count": null,
   "id": "ef79a6ea-271a-479d-8d49-31f7dafc3dd5",
   "metadata": {},
   "outputs": [],
   "source": [
    "#24. Implement a simple text-based adventure game with branching scenarios.\n",
    "print(\"You are in a dark forest. Do you go left or right?\")\n",
    "choice = input(\"Enter left or right: \").lower()\n",
    "if choice == \"left\":\n",
    "    print(\"You found a treasure chest! You win!\")\n",
    "else:\n",
    "    print(\"You fell into a pit. Game over!\")"
   ]
  },
  {
   "cell_type": "code",
   "execution_count": null,
   "id": "edeb1dbc-2891-42ab-8b82-806b1734b860",
   "metadata": {},
   "outputs": [],
   "source": [
    "#25.a, b = 2, -4\n",
    "if a == 0:\n",
    "    print(\"No solution\" if b != 0 else \"Infinite solutions\")\n",
    "else:\n",
    "    print(\"x =\", -b / a)"
   ]
  },
  {
   "cell_type": "code",
   "execution_count": null,
   "id": "6f1bf3e5-a2d0-40bf-89a4-459e92a9008f",
   "metadata": {},
   "outputs": [],
   "source": [
    "#26. Simulate a basic quiz game with multiple-choice questions and scoring:\n",
    "questions = [(\"What is 2+2?\", \"4\"), (\"What is the capital of France?\", \"Paris\")]\n",
    "score = 0\n",
    "for q, a in questions:\n",
    "    user_answer = input(q + \" \")\n",
    "    if user_answer.lower() == a.lower():\n",
    "        score += 1\n",
    "print(\"Your score:\", score, \"/\", len(questions))"
   ]
  },
  {
   "cell_type": "code",
   "execution_count": null,
   "id": "ed0adf0b-a236-46e9-8e7e-fa72acc2e404",
   "metadata": {},
   "outputs": [],
   "source": [
    "#27. Determine whether a given year is a prime number:\n",
    "year = int(input(\"Enter a year: \"))\n",
    "if year > 1:\n",
    "    for i in range(2, int(year**0.5) + 1):\n",
    "        if year % i == 0:\n",
    "            print(\"Not a prime year\")\n",
    "            break\n",
    "    else:\n",
    "        print(\"Prime year\")\n",
    "else:\n",
    "    print(\"Not a prime year\")"
   ]
  },
  {
   "cell_type": "code",
   "execution_count": null,
   "id": "6f4eb7f0-79f9-4fab-bf71-94774c23c370",
   "metadata": {},
   "outputs": [],
   "source": [
    "#28. Sort three numbers in ascending order using conditional statements:\n",
    "a, b, c = 3, 1, 2\n",
    "if a > b: a, b = b, a\n",
    "if a > c: a, c = c, a\n",
    "if b > c: b, c = c, b\n",
    "print(\"Sorted:\", a, b, c)"
   ]
  },
  {
   "cell_type": "code",
   "execution_count": null,
   "id": "94196263-8a70-41d2-b09a-a9ea487665ea",
   "metadata": {},
   "outputs": [],
   "source": [
    "#29. Determine the roots of a quartic equation using numerical methods:\n",
    "import numpy as np\n",
    "\n",
    "coefficients = [1, -10, 35, -50, 24]  # Example: x^4 - 10x^3 + 35x^2 - 50x + 24\n",
    "roots = np.roots(coefficients)\n",
    "print(\"Roots:\", roots)"
   ]
  },
  {
   "cell_type": "code",
   "execution_count": null,
   "id": "0e254c5d-e07b-4cd2-9aac-4e052921a8bf",
   "metadata": {},
   "outputs": [],
   "source": [
    "#30. Calculate BMI and provide health recommendations\n",
    "weight = float(input(\"Enter your weight (kg): \"))\n",
    "height = float(input(\"Enter your height (m): \"))\n",
    "bmi = weight / (height ** 2)\n",
    "print(\"BMI:\", bmi)\n",
    "if bmi < 18.5:\n",
    "    print(\"Underweight\")\n",
    "elif 18.5 <= bmi < 25:\n",
    "    print(\"Normal weight\")\n",
    "elif 25 <= bmi < 30:\n",
    "    print(\"Overweight\")\n",
    "else:\n",
    "    print(\"Obese\")"
   ]
  },
  {
   "cell_type": "code",
   "execution_count": null,
   "id": "e42a838e-8bc8-4117-8f52-46f163c883a1",
   "metadata": {},
   "outputs": [],
   "source": [
    "###### Challenge Level:"
   ]
  },
  {
   "cell_type": "code",
   "execution_count": null,
   "id": "662736cf-5aaf-42c5-b328-170c150b8fce",
   "metadata": {},
   "outputs": [],
   "source": [
    "#31. Validate a password based on complexity rules:\n",
    "import re\n",
    "\n",
    "password = input(\"Enter a password: \")\n",
    "if len(password) >= 8 and re.search(r\"[A-Z]\", password) and re.search(r\"[a-z]\", password) and re.search(r\"\\d\", password) and re.search(r\"[!@#$%^&*]\", password):\n",
    "    print(\"Valid password\")\n",
    "else:\n",
    "    print(\"Invalid password\")"
   ]
  },
  {
   "cell_type": "code",
   "execution_count": null,
   "id": "63e02a5f-5643-4159-9242-665698a5fa59",
   "metadata": {},
   "outputs": [],
   "source": [
    "#32. Perform matrix addition and subtraction based on user input:\n",
    "import numpy as np\n",
    "\n",
    "matrix1 = np.array([[1, 2], [3, 4]])\n",
    "matrix2 = np.array([[5, 6], [7, 8]])\n",
    "operation = input(\"Enter operation (add/subtract): \").lower()\n",
    "if operation == \"add\":\n",
    "    result = matrix1 + matrix2\n",
    "elif operation == \"subtract\":\n",
    "    result = matrix1 - matrix2\n",
    "else:\n",
    "    result = \"Invalid operation\"\n",
    "print(\"Result:\", result)"
   ]
  },
  {
   "cell_type": "code",
   "execution_count": null,
   "id": "a561b8d8-d08d-4e98-aed5-8690e35ebf5a",
   "metadata": {},
   "outputs": [],
   "source": [
    "#33. Calculate the GCD of two numbers using the Euclidean algorithm:\n",
    "def gcd(a, b):\n",
    "    while b:\n",
    "        a, b = b, a % b\n",
    "    return a\n",
    "\n",
    "print(\"GCD:\", gcd(48, 18))"
   ]
  },
  {
   "cell_type": "code",
   "execution_count": null,
   "id": "b405064f-63dc-4b92-91a5-74b0ba0dcda8",
   "metadata": {},
   "outputs": [],
   "source": [
    "#34. Perform matrix multiplication using nested loops:\n",
    "matrix1 = [[1, 2], [3, 4]]\n",
    "matrix2 = [[5, 6], [7, 8]]\n",
    "result = [[sum(a * b for a, b in zip(row, col)) for col in zip(*matrix2)] for row in matrix1]\n",
    "print(\"Result:\", result)"
   ]
  },
  {
   "cell_type": "code",
   "execution_count": null,
   "id": "4bdb92ac-681d-4ccd-acee-35433bc16c7e",
   "metadata": {},
   "outputs": [],
   "source": [
    "#35. Simulate a basic text-based tic-tac-toe game against the computer:\n",
    "import random\n",
    "\n",
    "board = [\" \" for _ in range(9)]\n",
    "def print_board():\n",
    "    print(f\"{board[0]} | {board[1]} | {board[2]}\\n---------\\n{board[3]} | {board[4]} | {board[5]}\\n---------\\n{board[6]} | {board[7]} | {board[8]}\")\n",
    "\n",
    "while True:\n",
    "    print_board()\n",
    "    user_move = int(input(\"Enter your move (1-9): \")) - 1\n",
    "    if board[user_move] == \" \":\n",
    "        board[user_move] = \"X\"\n",
    "        if \" \" not in board:\n",
    "            print(\"It's a tie!\")\n",
    "            break\n",
    "        computer_move = random.choice([i for i, x in enumerate(board) if x == \" \"])\n",
    "        board[computer_move] = \"O\"\n",
    "    else:\n",
    "        print(\"Invalid move!\")"
   ]
  },
  {
   "cell_type": "code",
   "execution_count": null,
   "id": "b476db87-acab-4ad2-b0d2-8920a9eccbd5",
   "metadata": {},
   "outputs": [],
   "source": [
    "#36. Generate Fibonacci numbers up to a specified term using iteration:\n",
    "n = int(input(\"Enter the number of terms: \"))\n",
    "a, b = 0, 1\n",
    "for _ in range(n):\n",
    "    print(a, end=\" \")\n",
    "    a, b = b, a + b"
   ]
  },
  {
   "cell_type": "code",
   "execution_count": null,
   "id": "518cd5e4-e6e1-4609-a1fa-a341f183b8ef",
   "metadata": {},
   "outputs": [],
   "source": [
    "#37. Calculate the nth term of the Fibonacci sequence using memoization:\n",
    "def fib(n, memo={}):\n",
    "    if n in memo:\n",
    "        return memo[n]\n",
    "    if n <= 2:\n",
    "        return 1\n",
    "    memo[n] = fib(n - 1, memo) + fib(n - 2, memo)\n",
    "    return memo[n]\n",
    "\n",
    "print(\"Fibonacci term:\", fib(10))"
   ]
  },
  {
   "cell_type": "code",
   "execution_count": null,
   "id": "3a962cd0-9d84-4032-ac31-8b8199a801b1",
   "metadata": {},
   "outputs": [],
   "source": [
    "#38. Generate a calendar for a given month and year:\n",
    "import calendar\n",
    "\n",
    "year = int(input(\"Enter year: \"))\n",
    "month = int(input(\"Enter month: \"))\n",
    "print(calendar.month(year, month))"
   ]
  },
  {
   "cell_type": "code",
   "execution_count": null,
   "id": "fae203c6-2d89-44dd-b857-4bcc58452090",
   "metadata": {},
   "outputs": [],
   "source": [
    "#39. Simulate a basic text-based blackjack game against the computer\n",
    "import random\n",
    "\n",
    "def deal_card():\n",
    "    return random.choice([2, 3, 4, 5, 6, 7, 8, 9, 10, 10, 10, 10, 11])\n",
    "\n",
    "user_hand = [deal_card(), deal_card()]\n",
    "computer_hand = [deal_card(), deal_card()]\n",
    "\n",
    "while sum(user_hand) < 21 and input(\"Do you want to hit? (yes/no): \").lower() == \"yes\":\n",
    "    user_hand.append(deal_card())\n",
    "\n",
    "while sum(computer_hand) < 17:\n",
    "    computer_hand.append(deal_card())\n",
    "\n",
    "print(\"Your hand:\", user_hand, \"Total:\", sum(user_hand))\n",
    "print(\"Computer's hand:\", computer_hand, \"Total:\", sum(computer_hand))\n",
    "\n",
    "if sum(user_hand) > 21 or (sum(computer_hand) <= 21 and sum(computer_hand) > sum(user_hand)):\n",
    "    print(\"You lose!\")\n",
    "else:\n",
    "    print(\"You win!\")"
   ]
  },
  {
   "cell_type": "code",
   "execution_count": null,
   "id": "e2e62b05-1c54-44a1-8ce0-71bbb852ff01",
   "metadata": {},
   "outputs": [],
   "source": [
    "#40. Generate the prime factors of a given number using trial division:\n",
    "def prime_factors(n):\n",
    "    factors = []\n",
    "    i = 2\n",
    "    while i * i <= n:\n",
    "        while n % i == 0:\n",
    "            factors.append(i)\n",
    "            n //= i\n",
    "        i += 1\n",
    "    if n > 1:\n",
    "        factors.append(n)\n",
    "    return factors\n",
    "\n",
    "print(\"Prime factors:\", prime_factors(56))"
   ]
  },
  {
   "cell_type": "code",
   "execution_count": null,
   "id": "2d0f739b-c100-44a4-b140-d0bdcfdd131f",
   "metadata": {},
   "outputs": [],
   "source": []
  },
  {
   "cell_type": "code",
   "execution_count": null,
   "id": "39bde453-4ded-46ef-bb83-dd15a5ad2ad3",
   "metadata": {},
   "outputs": [],
   "source": []
  },
  {
   "cell_type": "code",
   "execution_count": null,
   "id": "ffd57850-eb1a-486a-8fcb-e64a2a871494",
   "metadata": {},
   "outputs": [],
   "source": []
  }
 ],
 "metadata": {
  "kernelspec": {
   "display_name": "Python 3 (ipykernel)",
   "language": "python",
   "name": "python3"
  },
  "language_info": {
   "codemirror_mode": {
    "name": "ipython",
    "version": 3
   },
   "file_extension": ".py",
   "mimetype": "text/x-python",
   "name": "python",
   "nbconvert_exporter": "python",
   "pygments_lexer": "ipython3",
   "version": "3.11.7"
  }
 },
 "nbformat": 4,
 "nbformat_minor": 5
}
